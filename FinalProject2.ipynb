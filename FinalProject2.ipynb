{
 "cells": [
  {
   "cell_type": "code",
   "execution_count": 8,
   "id": "7a00d65e",
   "metadata": {},
   "outputs": [],
   "source": [
    "import pandas as pd\n",
    "import numpy as np\n",
    "from matplotlib import pyplot as plt\n",
    "import matplotlib\n",
    "import os\n",
    "import random\n",
    "\n",
    "from sklearn.metrics import recall_score as recall\n",
    "from sklearn.metrics import precision_score as precision\n",
    "from sklearn.metrics import accuracy_score\n",
    "from sklearn.metrics import confusion_matrix\n",
    "\n",
    "from sklearn.discriminant_analysis import LinearDiscriminantAnalysis\n",
    "from sklearn.discriminant_analysis import QuadraticDiscriminantAnalysis\n",
    "\n",
    "\n",
    "from sklearn.linear_model import LinearRegression\n",
    "from sklearn.linear_model import LogisticRegression\n",
    "\n",
    "#from keras.utils import np_utils"
   ]
  },
  {
   "cell_type": "code",
   "execution_count": 2,
   "id": "012ed08f",
   "metadata": {},
   "outputs": [
    {
     "name": "stdout",
     "output_type": "stream",
     "text": [
      "epidural is assigned as 1\n",
      "intraparenchymalis assigned as 2\n",
      "intraventricular is assigned as 3\n",
      "subarachnoid is assigned as 4\n",
      "subdural is assigned as 5\n",
      "0 indicates no hemorrhage\n"
     ]
    },
    {
     "data": {
      "text/html": [
       "<div>\n",
       "<style scoped>\n",
       "    .dataframe tbody tr th:only-of-type {\n",
       "        vertical-align: middle;\n",
       "    }\n",
       "\n",
       "    .dataframe tbody tr th {\n",
       "        vertical-align: top;\n",
       "    }\n",
       "\n",
       "    .dataframe thead th {\n",
       "        text-align: right;\n",
       "    }\n",
       "</style>\n",
       "<table border=\"1\" class=\"dataframe\">\n",
       "  <thead>\n",
       "    <tr style=\"text-align: right;\">\n",
       "      <th></th>\n",
       "      <th>Image</th>\n",
       "      <th>any</th>\n",
       "      <th>epidural</th>\n",
       "      <th>intraparenchymal</th>\n",
       "      <th>intraventricular</th>\n",
       "      <th>subarachnoid</th>\n",
       "      <th>subdural</th>\n",
       "      <th>HemorrageType</th>\n",
       "    </tr>\n",
       "  </thead>\n",
       "  <tbody>\n",
       "    <tr>\n",
       "      <th>0</th>\n",
       "      <td>ID_000012eaf</td>\n",
       "      <td>0</td>\n",
       "      <td>0</td>\n",
       "      <td>0</td>\n",
       "      <td>0</td>\n",
       "      <td>0</td>\n",
       "      <td>0</td>\n",
       "      <td>0</td>\n",
       "    </tr>\n",
       "    <tr>\n",
       "      <th>1</th>\n",
       "      <td>ID_000039fa0</td>\n",
       "      <td>0</td>\n",
       "      <td>0</td>\n",
       "      <td>0</td>\n",
       "      <td>0</td>\n",
       "      <td>0</td>\n",
       "      <td>0</td>\n",
       "      <td>0</td>\n",
       "    </tr>\n",
       "    <tr>\n",
       "      <th>2</th>\n",
       "      <td>ID_00005679d</td>\n",
       "      <td>0</td>\n",
       "      <td>0</td>\n",
       "      <td>0</td>\n",
       "      <td>0</td>\n",
       "      <td>0</td>\n",
       "      <td>0</td>\n",
       "      <td>0</td>\n",
       "    </tr>\n",
       "    <tr>\n",
       "      <th>3</th>\n",
       "      <td>ID_00008ce3c</td>\n",
       "      <td>0</td>\n",
       "      <td>0</td>\n",
       "      <td>0</td>\n",
       "      <td>0</td>\n",
       "      <td>0</td>\n",
       "      <td>0</td>\n",
       "      <td>0</td>\n",
       "    </tr>\n",
       "    <tr>\n",
       "      <th>4</th>\n",
       "      <td>ID_0000950d7</td>\n",
       "      <td>0</td>\n",
       "      <td>0</td>\n",
       "      <td>0</td>\n",
       "      <td>0</td>\n",
       "      <td>0</td>\n",
       "      <td>0</td>\n",
       "      <td>0</td>\n",
       "    </tr>\n",
       "    <tr>\n",
       "      <th>...</th>\n",
       "      <td>...</td>\n",
       "      <td>...</td>\n",
       "      <td>...</td>\n",
       "      <td>...</td>\n",
       "      <td>...</td>\n",
       "      <td>...</td>\n",
       "      <td>...</td>\n",
       "      <td>...</td>\n",
       "    </tr>\n",
       "    <tr>\n",
       "      <th>752798</th>\n",
       "      <td>ID_ffff82e46</td>\n",
       "      <td>0</td>\n",
       "      <td>0</td>\n",
       "      <td>0</td>\n",
       "      <td>0</td>\n",
       "      <td>0</td>\n",
       "      <td>0</td>\n",
       "      <td>0</td>\n",
       "    </tr>\n",
       "    <tr>\n",
       "      <th>752799</th>\n",
       "      <td>ID_ffff922b9</td>\n",
       "      <td>1</td>\n",
       "      <td>0</td>\n",
       "      <td>0</td>\n",
       "      <td>1</td>\n",
       "      <td>0</td>\n",
       "      <td>0</td>\n",
       "      <td>3</td>\n",
       "    </tr>\n",
       "    <tr>\n",
       "      <th>752800</th>\n",
       "      <td>ID_ffffb670a</td>\n",
       "      <td>1</td>\n",
       "      <td>0</td>\n",
       "      <td>0</td>\n",
       "      <td>0</td>\n",
       "      <td>1</td>\n",
       "      <td>0</td>\n",
       "      <td>4</td>\n",
       "    </tr>\n",
       "    <tr>\n",
       "      <th>752801</th>\n",
       "      <td>ID_ffffcbff8</td>\n",
       "      <td>0</td>\n",
       "      <td>0</td>\n",
       "      <td>0</td>\n",
       "      <td>0</td>\n",
       "      <td>0</td>\n",
       "      <td>0</td>\n",
       "      <td>0</td>\n",
       "    </tr>\n",
       "    <tr>\n",
       "      <th>752802</th>\n",
       "      <td>ID_fffff9393</td>\n",
       "      <td>0</td>\n",
       "      <td>0</td>\n",
       "      <td>0</td>\n",
       "      <td>0</td>\n",
       "      <td>0</td>\n",
       "      <td>0</td>\n",
       "      <td>0</td>\n",
       "    </tr>\n",
       "  </tbody>\n",
       "</table>\n",
       "<p>752803 rows × 8 columns</p>\n",
       "</div>"
      ],
      "text/plain": [
       "               Image  any  epidural  intraparenchymal  intraventricular  \\\n",
       "0       ID_000012eaf    0         0                 0                 0   \n",
       "1       ID_000039fa0    0         0                 0                 0   \n",
       "2       ID_00005679d    0         0                 0                 0   \n",
       "3       ID_00008ce3c    0         0                 0                 0   \n",
       "4       ID_0000950d7    0         0                 0                 0   \n",
       "...              ...  ...       ...               ...               ...   \n",
       "752798  ID_ffff82e46    0         0                 0                 0   \n",
       "752799  ID_ffff922b9    1         0                 0                 1   \n",
       "752800  ID_ffffb670a    1         0                 0                 0   \n",
       "752801  ID_ffffcbff8    0         0                 0                 0   \n",
       "752802  ID_fffff9393    0         0                 0                 0   \n",
       "\n",
       "        subarachnoid  subdural  HemorrageType  \n",
       "0                  0         0              0  \n",
       "1                  0         0              0  \n",
       "2                  0         0              0  \n",
       "3                  0         0              0  \n",
       "4                  0         0              0  \n",
       "...              ...       ...            ...  \n",
       "752798             0         0              0  \n",
       "752799             0         0              3  \n",
       "752800             1         0              4  \n",
       "752801             0         0              0  \n",
       "752802             0         0              0  \n",
       "\n",
       "[752803 rows x 8 columns]"
      ]
     },
     "metadata": {},
     "output_type": "display_data"
    }
   ],
   "source": [
    "file_dir = \"C:/Users/ramse/Documents/School/Northeastern/Machine Learning/Final Project/OneDrive_1_4-6-2022/\"\n",
    "labels = pd.read_csv(file_dir + 'hemorrhage-labels.csv',index_col=None)\n",
    "#display(labels)\n",
    "#y = labels.CDR\n",
    "count = list()\n",
    "for i,j,k,l,m in zip(labels['epidural'],labels['intraparenchymal'],labels['intraventricular'],labels['subarachnoid'],labels['subdural']):\n",
    "    if i==1:\n",
    "        count.append(1)\n",
    "    elif j==1:\n",
    "        count.append(2)\n",
    "    elif k==1:\n",
    "        count.append(3)\n",
    "    elif l==1:\n",
    "        count.append(4)\n",
    "    elif m==1:\n",
    "        count.append(5)\n",
    "    else:\n",
    "        count.append(0)\n",
    "\n",
    "print(\"epidural is assigned as 1\")\n",
    "print(\"intraparenchymalis assigned as 2\")\n",
    "print(\"intraventricular is assigned as 3\")\n",
    "print(\"subarachnoid is assigned as 4\")\n",
    "print(\"subdural is assigned as 5\")\n",
    "print(\"0 indicates no hemorrhage\")\n",
    "\n",
    "labels[\"HemorrageType\"]=count\n",
    "\n",
    "display(labels)"
   ]
  },
  {
   "cell_type": "code",
   "execution_count": 3,
   "id": "9df0828c",
   "metadata": {},
   "outputs": [],
   "source": [
    "cttype = ['brain_bone_window/','brain_window/','max_contrast_window/','subdural_window/']"
   ]
  },
  {
   "cell_type": "code",
   "execution_count": 4,
   "id": "8a0b733d",
   "metadata": {},
   "outputs": [],
   "source": [
    "def downsample(downSampleRate, image):\n",
    "    im_size = image.size\n",
    "    #N_train = y_train.shape[0]  # The length of the training data\n",
    "\n",
    "    if im_size/downSampleRate % 1 > 0:\n",
    "        print(\"Downsample rate is not a multiple of\", im_size)\n",
    "        return [-1]\n",
    "    else:\n",
    "        im_size = int(im_size/downSampleRate)\n",
    "        \n",
    "    return image[0::downSampleRate]"
   ]
  },
  {
   "cell_type": "code",
   "execution_count": 5,
   "id": "af32f6b8",
   "metadata": {},
   "outputs": [],
   "source": [
    "def getListOfFiles(dirName, ctype):\n",
    "    # create a list of file and sub directories \n",
    "    # names in the given directory \n",
    "    listOfFile = os.listdir(dirName)\n",
    "    allFiles = list()\n",
    "    justNames = list()\n",
    "    # Iterate over all the entries\n",
    "    for entry in listOfFile:\n",
    "        \n",
    "        # Create full path\n",
    "        fullPath = os.path.join(dirName, entry)\n",
    "        # If entry is a directory then get the list of files in this directory \n",
    "        if os.path.isdir(fullPath):\n",
    "            a, b = getListOfFiles(fullPath, ctype)\n",
    "            allFiles = allFiles + a\n",
    "            justNames = justNames + b\n",
    "        elif ctype in fullPath:\n",
    "            allFiles.append(fullPath)\n",
    "            justNames.append(entry)\n",
    "                \n",
    "    return allFiles, justNames"
   ]
  },
  {
   "cell_type": "code",
   "execution_count": 6,
   "id": "4dd6f5d1",
   "metadata": {},
   "outputs": [
    {
     "name": "stdout",
     "output_type": "stream",
     "text": [
      "[59310 59311 59312 ... 59309 27235 84331]\n",
      "['ID_000012eaf.jpg' 'ID_000039fa0.jpg' 'ID_00005679d.jpg'\n",
      " 'ID_00008ce3c.jpg' 'ID_0000950d7.jpg' 'ID_0000aee4b.jpg'\n",
      " 'ID_0000ca2f6.jpg' 'ID_0000f1657.jpg' 'ID_000178e76.jpg'\n",
      " 'ID_00019828f.jpg' 'ID_0001dcc25.jpg' 'ID_0001de0e8.jpg'\n",
      " 'ID_0001f7f62.jpg' 'ID_0002003a8.jpg' 'ID_0002081b6.jpg'\n",
      " 'ID_0002108bd.jpg' 'ID_000229f2a.jpg' 'ID_000230ed7.jpg'\n",
      " 'ID_000259ccf.jpg' 'ID_00025ef4b.jpg'] ['ID_fff4c8969.jpg' 'ID_fff4dc2f1.jpg' 'ID_fff5ad8a5.jpg'\n",
      " 'ID_fff60ea80.jpg' 'ID_fff683ffd.jpg' 'ID_fff6e7944.jpg'\n",
      " 'ID_fff7a1309.jpg' 'ID_fff882c03.jpg' 'ID_fff92ad89.jpg'\n",
      " 'ID_fff974da8.jpg' 'ID_fff9bb57a.jpg' 'ID_fffa58f70.jpg'\n",
      " 'ID_fffaebafd.jpg' 'ID_fffb124e6.jpg' 'ID_fffb16e96.jpg'\n",
      " 'ID_fffc60817.jpg' 'ID_fffd00949.jpg' 'ID_fffe2edb8.jpg'\n",
      " 'ID_ffff922b9.jpg']\n"
     ]
    }
   ],
   "source": [
    "a,b = getListOfFiles('C:/Users/ramse/Documents/School/Northeastern/Machine Learning/Final Project/OneDrive_1_4-6-2022/renders/', 'max_contrast')\n",
    "\n",
    "#Sort Alphanumerically to match csv file\n",
    "x = np.array(b)\n",
    "ind = np.argsort(x)\n",
    "print(ind)\n",
    "y = np.array(a)\n",
    "\n",
    "filenamesSorted = x[ind]\n",
    "filePathsSorted = y[ind]\n",
    "\n",
    "labels.sort_values(by=['Image'])\n",
    "\n",
    "print(filenamesSorted[0:20], filenamesSorted[-20:-1])\n",
    "#labels\n",
    "\n",
    "#labels[\"fullFileName\"] = y[ind]"
   ]
  },
  {
   "cell_type": "code",
   "execution_count": 9,
   "id": "8a59ba58",
   "metadata": {},
   "outputs": [
    {
     "name": "stdout",
     "output_type": "stream",
     "text": [
      "[     0      7     19 ... 116493 116495 116523]\n",
      "Downsample rate is not a multiple of 312620\n",
      "Downsample rate is not a multiple of 213444\n",
      "Downsample rate is not a multiple of 213444\n"
     ]
    }
   ],
   "source": [
    "#saturncloud.io\n",
    "\n",
    "downSampleRate = 16 # Set to 1 for full data set\n",
    "numDataPoints =  10000 # Set to len(filenamesSorted)\n",
    "indices = random.sample(range(0, len(filenamesSorted)-1), numDataPoints)\n",
    "ind = np.sort(np.array(indices))\n",
    "print(ind)\n",
    "x_names = filenamesSorted[ind]\n",
    "x_data = filePathsSorted[ind]\n",
    "\n",
    "#print(x_data[0:20], x_data[-20:-1])\n",
    "\n",
    "im_size = int((512*512)/downSampleRate)\n",
    "data = np.zeros([numDataPoints, im_size])\n",
    "\n",
    "dataFrameIter=0\n",
    "dataSize_iter = 0\n",
    "dataFrameIndicesInUse = []\n",
    "for file_name in x_data:\n",
    "    #print(file_name,labels.Image[dataFrameIter])\n",
    "    while file_name.find(labels.Image[dataFrameIter]) == -1:\n",
    "        #print(file_name,labels.Image[dataFrameIter])\n",
    "        dataFrameIter+=1\n",
    "    \n",
    "    dsImage = downsample(16, np.mean(matplotlib.image.imread(file_name),axis=2).reshape(-1))\n",
    "    if len(dsImage) == im_size:\n",
    "        data[0,:] = dsImage\n",
    "        dataSize_iter+=1\n",
    "        dataFrameIndicesInUse.append(dataFrameIter)\n"
   ]
  },
  {
   "cell_type": "code",
   "execution_count": 10,
   "id": "6ef9cce9",
   "metadata": {},
   "outputs": [
    {
     "name": "stdout",
     "output_type": "stream",
     "text": [
      "(7992,) (1998,)\n",
      "(7992, 16384) (1998, 16384)\n"
     ]
    }
   ],
   "source": [
    "#data_save = data\n",
    "#print(type(data_save))\n",
    "dataFlat = np.array(data, order='F')\n",
    "dataFlat.resize((dataSize_iter, im_size))\n",
    "\n",
    "y = labels[\"HemorrageType\"]\n",
    "y = y[dataFrameIndicesInUse]\n",
    "\n",
    "from sklearn.model_selection import train_test_split\n",
    "\n",
    "X_train, X_test, y_train, y_test = train_test_split(dataFlat, y, test_size=0.2, random_state=0)\n",
    "print(y_train.shape, y_test.shape)\n",
    "print(X_train.shape, X_test.shape)"
   ]
  },
  {
   "cell_type": "code",
   "execution_count": 11,
   "id": "2bdc7a5c",
   "metadata": {},
   "outputs": [
    {
     "name": "stdout",
     "output_type": "stream",
     "text": [
      "[5 4 3 0 2 1]\n"
     ]
    }
   ],
   "source": [
    "# Covert Y to be categorical\n",
    "print(y_test.unique())\n"
   ]
  },
  {
   "cell_type": "code",
   "execution_count": 12,
   "id": "34afb017",
   "metadata": {},
   "outputs": [
    {
     "data": {
      "text/plain": [
       "LogisticRegression(max_iter=5000, multi_class='multinomial')"
      ]
     },
     "execution_count": 12,
     "metadata": {},
     "output_type": "execute_result"
    }
   ],
   "source": [
    "\n",
    "\n",
    "## Logistic Regression\n",
    "clf = LogisticRegression(multi_class='multinomial', solver='lbfgs', max_iter=5000)\n",
    "clf.fit(X_train,y_train)\n"
   ]
  },
  {
   "cell_type": "code",
   "execution_count": 11,
   "id": "5adf8246",
   "metadata": {},
   "outputs": [
    {
     "name": "stdout",
     "output_type": "stream",
     "text": [
      "Logistic Regression Score: 0.299\n",
      "Confusion Matrix:\n",
      " [[  0   0   0   0   0   0]\n",
      " [  0   0   0   0   0   0]\n",
      " [129  42 598 274 394 562]\n",
      " [  0   0   0   0   0   0]\n",
      " [  0   0   0   0   0   0]\n",
      " [  0   0   0   0   0   0]]\n",
      "Recall:  [0.         0.         0.29914957 0.         0.         0.        ]\n",
      "Precision:  [0. 0. 1. 0. 0. 0.]\n"
     ]
    },
    {
     "name": "stderr",
     "output_type": "stream",
     "text": [
      "C:\\Users\\ramse\\anaconda3\\lib\\site-packages\\sklearn\\metrics\\_classification.py:1248: UndefinedMetricWarning: Recall is ill-defined and being set to 0.0 in labels with no true samples. Use `zero_division` parameter to control this behavior.\n",
      "  _warn_prf(average, modifier, msg_start, len(result))\n"
     ]
    }
   ],
   "source": [
    "\n",
    "print(\"Logistic Regression Score: %.3f\"%clf.score(X_test,y_test))\n",
    "y_pred = clf.predict(X_test)\n",
    "con_mat = confusion_matrix(y_pred,y_test)\n",
    "print(\"Confusion Matrix:\\n\",con_mat)\n",
    "print(\"Recall: \",recall(y_pred, y_test, average=None))\n",
    "print(\"Precision: \",precision(y_pred, y_test, average=None))"
   ]
  },
  {
   "cell_type": "code",
   "execution_count": 12,
   "id": "7f973a31",
   "metadata": {},
   "outputs": [
    {
     "ename": "LinAlgError",
     "evalue": "SVD did not converge",
     "output_type": "error",
     "traceback": [
      "\u001b[1;31m---------------------------------------------------------------------------\u001b[0m",
      "\u001b[1;31mLinAlgError\u001b[0m                               Traceback (most recent call last)",
      "\u001b[1;32m~\\AppData\\Local\\Temp/ipykernel_17928/2524592700.py\u001b[0m in \u001b[0;36m<module>\u001b[1;34m\u001b[0m\n\u001b[0;32m      4\u001b[0m \u001b[1;33m\u001b[0m\u001b[0m\n\u001b[0;32m      5\u001b[0m \u001b[0mlda\u001b[0m \u001b[1;33m=\u001b[0m \u001b[0mLinearDiscriminantAnalysis\u001b[0m\u001b[1;33m(\u001b[0m\u001b[0mstore_covariance\u001b[0m\u001b[1;33m=\u001b[0m\u001b[1;32mTrue\u001b[0m\u001b[1;33m)\u001b[0m\u001b[1;33m\u001b[0m\u001b[1;33m\u001b[0m\u001b[0m\n\u001b[1;32m----> 6\u001b[1;33m \u001b[0mlda\u001b[0m\u001b[1;33m.\u001b[0m\u001b[0mfit\u001b[0m\u001b[1;33m(\u001b[0m\u001b[0mX_train\u001b[0m\u001b[1;33m,\u001b[0m \u001b[0my_train\u001b[0m\u001b[1;33m)\u001b[0m\u001b[1;33m\u001b[0m\u001b[1;33m\u001b[0m\u001b[0m\n\u001b[0m",
      "\u001b[1;32m~\\anaconda3\\lib\\site-packages\\sklearn\\discriminant_analysis.py\u001b[0m in \u001b[0;36mfit\u001b[1;34m(self, X, y)\u001b[0m\n\u001b[0;32m    551\u001b[0m                         \u001b[1;34m'is not supported '\u001b[0m\u001b[1;33m\u001b[0m\u001b[1;33m\u001b[0m\u001b[0m\n\u001b[0;32m    552\u001b[0m                         'with svd solver. Try another solver')\n\u001b[1;32m--> 553\u001b[1;33m             \u001b[0mself\u001b[0m\u001b[1;33m.\u001b[0m\u001b[0m_solve_svd\u001b[0m\u001b[1;33m(\u001b[0m\u001b[0mX\u001b[0m\u001b[1;33m,\u001b[0m \u001b[0my\u001b[0m\u001b[1;33m)\u001b[0m\u001b[1;33m\u001b[0m\u001b[1;33m\u001b[0m\u001b[0m\n\u001b[0m\u001b[0;32m    554\u001b[0m         \u001b[1;32melif\u001b[0m \u001b[0mself\u001b[0m\u001b[1;33m.\u001b[0m\u001b[0msolver\u001b[0m \u001b[1;33m==\u001b[0m \u001b[1;34m'lsqr'\u001b[0m\u001b[1;33m:\u001b[0m\u001b[1;33m\u001b[0m\u001b[1;33m\u001b[0m\u001b[0m\n\u001b[0;32m    555\u001b[0m             self._solve_lsqr(X, y, shrinkage=self.shrinkage,\n",
      "\u001b[1;32m~\\anaconda3\\lib\\site-packages\\sklearn\\discriminant_analysis.py\u001b[0m in \u001b[0;36m_solve_svd\u001b[1;34m(self, X, y)\u001b[0m\n\u001b[0;32m    463\u001b[0m         \u001b[0mX\u001b[0m \u001b[1;33m=\u001b[0m \u001b[0mnp\u001b[0m\u001b[1;33m.\u001b[0m\u001b[0msqrt\u001b[0m\u001b[1;33m(\u001b[0m\u001b[0mfac\u001b[0m\u001b[1;33m)\u001b[0m \u001b[1;33m*\u001b[0m \u001b[1;33m(\u001b[0m\u001b[0mXc\u001b[0m \u001b[1;33m/\u001b[0m \u001b[0mstd\u001b[0m\u001b[1;33m)\u001b[0m\u001b[1;33m\u001b[0m\u001b[1;33m\u001b[0m\u001b[0m\n\u001b[0;32m    464\u001b[0m         \u001b[1;31m# SVD of centered (within)scaled data\u001b[0m\u001b[1;33m\u001b[0m\u001b[1;33m\u001b[0m\u001b[0m\n\u001b[1;32m--> 465\u001b[1;33m         \u001b[0mU\u001b[0m\u001b[1;33m,\u001b[0m \u001b[0mS\u001b[0m\u001b[1;33m,\u001b[0m \u001b[0mVt\u001b[0m \u001b[1;33m=\u001b[0m \u001b[0mlinalg\u001b[0m\u001b[1;33m.\u001b[0m\u001b[0msvd\u001b[0m\u001b[1;33m(\u001b[0m\u001b[0mX\u001b[0m\u001b[1;33m,\u001b[0m \u001b[0mfull_matrices\u001b[0m\u001b[1;33m=\u001b[0m\u001b[1;32mFalse\u001b[0m\u001b[1;33m)\u001b[0m\u001b[1;33m\u001b[0m\u001b[1;33m\u001b[0m\u001b[0m\n\u001b[0m\u001b[0;32m    466\u001b[0m \u001b[1;33m\u001b[0m\u001b[0m\n\u001b[0;32m    467\u001b[0m         \u001b[0mrank\u001b[0m \u001b[1;33m=\u001b[0m \u001b[0mnp\u001b[0m\u001b[1;33m.\u001b[0m\u001b[0msum\u001b[0m\u001b[1;33m(\u001b[0m\u001b[0mS\u001b[0m \u001b[1;33m>\u001b[0m \u001b[0mself\u001b[0m\u001b[1;33m.\u001b[0m\u001b[0mtol\u001b[0m\u001b[1;33m)\u001b[0m\u001b[1;33m\u001b[0m\u001b[1;33m\u001b[0m\u001b[0m\n",
      "\u001b[1;32m~\\anaconda3\\lib\\site-packages\\scipy\\linalg\\decomp_svd.py\u001b[0m in \u001b[0;36msvd\u001b[1;34m(a, full_matrices, compute_uv, overwrite_a, check_finite, lapack_driver)\u001b[0m\n\u001b[0;32m    129\u001b[0m \u001b[1;33m\u001b[0m\u001b[0m\n\u001b[0;32m    130\u001b[0m     \u001b[1;32mif\u001b[0m \u001b[0minfo\u001b[0m \u001b[1;33m>\u001b[0m \u001b[1;36m0\u001b[0m\u001b[1;33m:\u001b[0m\u001b[1;33m\u001b[0m\u001b[1;33m\u001b[0m\u001b[0m\n\u001b[1;32m--> 131\u001b[1;33m         \u001b[1;32mraise\u001b[0m \u001b[0mLinAlgError\u001b[0m\u001b[1;33m(\u001b[0m\u001b[1;34m\"SVD did not converge\"\u001b[0m\u001b[1;33m)\u001b[0m\u001b[1;33m\u001b[0m\u001b[1;33m\u001b[0m\u001b[0m\n\u001b[0m\u001b[0;32m    132\u001b[0m     \u001b[1;32mif\u001b[0m \u001b[0minfo\u001b[0m \u001b[1;33m<\u001b[0m \u001b[1;36m0\u001b[0m\u001b[1;33m:\u001b[0m\u001b[1;33m\u001b[0m\u001b[1;33m\u001b[0m\u001b[0m\n\u001b[0;32m    133\u001b[0m         raise ValueError('illegal value in %dth argument of internal gesdd'\n",
      "\u001b[1;31mLinAlgError\u001b[0m: SVD did not converge"
     ]
    }
   ],
   "source": [
    "\n",
    "\n",
    "## Linear Discriminant Analysis\n",
    "\n",
    "lda = LinearDiscriminantAnalysis(store_covariance=True)\n",
    "lda.fit(X_train, y_train)\n"
   ]
  },
  {
   "cell_type": "code",
   "execution_count": 13,
   "id": "f64f3c91",
   "metadata": {},
   "outputs": [
    {
     "ename": "AttributeError",
     "evalue": "'LinearDiscriminantAnalysis' object has no attribute 'coef_'",
     "output_type": "error",
     "traceback": [
      "\u001b[1;31m---------------------------------------------------------------------------\u001b[0m",
      "\u001b[1;31mAttributeError\u001b[0m                            Traceback (most recent call last)",
      "\u001b[1;32m~\\AppData\\Local\\Temp/ipykernel_17928/216943790.py\u001b[0m in \u001b[0;36m<module>\u001b[1;34m\u001b[0m\n\u001b[0;32m      2\u001b[0m \u001b[1;32mfrom\u001b[0m \u001b[0msklearn\u001b[0m\u001b[1;33m.\u001b[0m\u001b[0mmetrics\u001b[0m \u001b[1;32mimport\u001b[0m \u001b[0mprecision_score\u001b[0m \u001b[1;32mas\u001b[0m \u001b[0mprecision\u001b[0m\u001b[1;33m\u001b[0m\u001b[1;33m\u001b[0m\u001b[0m\n\u001b[0;32m      3\u001b[0m \u001b[1;33m\u001b[0m\u001b[0m\n\u001b[1;32m----> 4\u001b[1;33m \u001b[0mprint\u001b[0m\u001b[1;33m(\u001b[0m\u001b[1;34m\"LDA Score: %.3f\"\u001b[0m\u001b[1;33m%\u001b[0m\u001b[0mlda\u001b[0m\u001b[1;33m.\u001b[0m\u001b[0mscore\u001b[0m\u001b[1;33m(\u001b[0m\u001b[0mX_test\u001b[0m\u001b[1;33m,\u001b[0m\u001b[0my_test\u001b[0m\u001b[1;33m)\u001b[0m\u001b[1;33m)\u001b[0m\u001b[1;33m\u001b[0m\u001b[1;33m\u001b[0m\u001b[0m\n\u001b[0m\u001b[0;32m      5\u001b[0m \u001b[1;33m\u001b[0m\u001b[0m\n\u001b[0;32m      6\u001b[0m \u001b[1;33m\u001b[0m\u001b[0m\n",
      "\u001b[1;32m~\\anaconda3\\lib\\site-packages\\sklearn\\base.py\u001b[0m in \u001b[0;36mscore\u001b[1;34m(self, X, y, sample_weight)\u001b[0m\n\u001b[0;32m    498\u001b[0m         \"\"\"\n\u001b[0;32m    499\u001b[0m         \u001b[1;32mfrom\u001b[0m \u001b[1;33m.\u001b[0m\u001b[0mmetrics\u001b[0m \u001b[1;32mimport\u001b[0m \u001b[0maccuracy_score\u001b[0m\u001b[1;33m\u001b[0m\u001b[1;33m\u001b[0m\u001b[0m\n\u001b[1;32m--> 500\u001b[1;33m         \u001b[1;32mreturn\u001b[0m \u001b[0maccuracy_score\u001b[0m\u001b[1;33m(\u001b[0m\u001b[0my\u001b[0m\u001b[1;33m,\u001b[0m \u001b[0mself\u001b[0m\u001b[1;33m.\u001b[0m\u001b[0mpredict\u001b[0m\u001b[1;33m(\u001b[0m\u001b[0mX\u001b[0m\u001b[1;33m)\u001b[0m\u001b[1;33m,\u001b[0m \u001b[0msample_weight\u001b[0m\u001b[1;33m=\u001b[0m\u001b[0msample_weight\u001b[0m\u001b[1;33m)\u001b[0m\u001b[1;33m\u001b[0m\u001b[1;33m\u001b[0m\u001b[0m\n\u001b[0m\u001b[0;32m    501\u001b[0m \u001b[1;33m\u001b[0m\u001b[0m\n\u001b[0;32m    502\u001b[0m     \u001b[1;32mdef\u001b[0m \u001b[0m_more_tags\u001b[0m\u001b[1;33m(\u001b[0m\u001b[0mself\u001b[0m\u001b[1;33m)\u001b[0m\u001b[1;33m:\u001b[0m\u001b[1;33m\u001b[0m\u001b[1;33m\u001b[0m\u001b[0m\n",
      "\u001b[1;32m~\\anaconda3\\lib\\site-packages\\sklearn\\linear_model\\_base.py\u001b[0m in \u001b[0;36mpredict\u001b[1;34m(self, X)\u001b[0m\n\u001b[0;32m    307\u001b[0m             \u001b[0mPredicted\u001b[0m \u001b[1;32mclass\u001b[0m \u001b[0mlabel\u001b[0m \u001b[0mper\u001b[0m \u001b[0msample\u001b[0m\u001b[1;33m.\u001b[0m\u001b[1;33m\u001b[0m\u001b[1;33m\u001b[0m\u001b[0m\n\u001b[0;32m    308\u001b[0m         \"\"\"\n\u001b[1;32m--> 309\u001b[1;33m         \u001b[0mscores\u001b[0m \u001b[1;33m=\u001b[0m \u001b[0mself\u001b[0m\u001b[1;33m.\u001b[0m\u001b[0mdecision_function\u001b[0m\u001b[1;33m(\u001b[0m\u001b[0mX\u001b[0m\u001b[1;33m)\u001b[0m\u001b[1;33m\u001b[0m\u001b[1;33m\u001b[0m\u001b[0m\n\u001b[0m\u001b[0;32m    310\u001b[0m         \u001b[1;32mif\u001b[0m \u001b[0mlen\u001b[0m\u001b[1;33m(\u001b[0m\u001b[0mscores\u001b[0m\u001b[1;33m.\u001b[0m\u001b[0mshape\u001b[0m\u001b[1;33m)\u001b[0m \u001b[1;33m==\u001b[0m \u001b[1;36m1\u001b[0m\u001b[1;33m:\u001b[0m\u001b[1;33m\u001b[0m\u001b[1;33m\u001b[0m\u001b[0m\n\u001b[0;32m    311\u001b[0m             \u001b[0mindices\u001b[0m \u001b[1;33m=\u001b[0m \u001b[1;33m(\u001b[0m\u001b[0mscores\u001b[0m \u001b[1;33m>\u001b[0m \u001b[1;36m0\u001b[0m\u001b[1;33m)\u001b[0m\u001b[1;33m.\u001b[0m\u001b[0mastype\u001b[0m\u001b[1;33m(\u001b[0m\u001b[0mint\u001b[0m\u001b[1;33m)\u001b[0m\u001b[1;33m\u001b[0m\u001b[1;33m\u001b[0m\u001b[0m\n",
      "\u001b[1;32m~\\anaconda3\\lib\\site-packages\\sklearn\\discriminant_analysis.py\u001b[0m in \u001b[0;36mdecision_function\u001b[1;34m(self, X)\u001b[0m\n\u001b[0;32m    655\u001b[0m         \"\"\"\n\u001b[0;32m    656\u001b[0m         \u001b[1;31m# Only override for the doc\u001b[0m\u001b[1;33m\u001b[0m\u001b[1;33m\u001b[0m\u001b[0m\n\u001b[1;32m--> 657\u001b[1;33m         \u001b[1;32mreturn\u001b[0m \u001b[0msuper\u001b[0m\u001b[1;33m(\u001b[0m\u001b[1;33m)\u001b[0m\u001b[1;33m.\u001b[0m\u001b[0mdecision_function\u001b[0m\u001b[1;33m(\u001b[0m\u001b[0mX\u001b[0m\u001b[1;33m)\u001b[0m\u001b[1;33m\u001b[0m\u001b[1;33m\u001b[0m\u001b[0m\n\u001b[0m\u001b[0;32m    658\u001b[0m \u001b[1;33m\u001b[0m\u001b[0m\n\u001b[0;32m    659\u001b[0m \u001b[1;33m\u001b[0m\u001b[0m\n",
      "\u001b[1;32m~\\anaconda3\\lib\\site-packages\\sklearn\\linear_model\\_base.py\u001b[0m in \u001b[0;36mdecision_function\u001b[1;34m(self, X)\u001b[0m\n\u001b[0;32m    284\u001b[0m         \u001b[0mX\u001b[0m \u001b[1;33m=\u001b[0m \u001b[0mcheck_array\u001b[0m\u001b[1;33m(\u001b[0m\u001b[0mX\u001b[0m\u001b[1;33m,\u001b[0m \u001b[0maccept_sparse\u001b[0m\u001b[1;33m=\u001b[0m\u001b[1;34m'csr'\u001b[0m\u001b[1;33m)\u001b[0m\u001b[1;33m\u001b[0m\u001b[1;33m\u001b[0m\u001b[0m\n\u001b[0;32m    285\u001b[0m \u001b[1;33m\u001b[0m\u001b[0m\n\u001b[1;32m--> 286\u001b[1;33m         \u001b[0mn_features\u001b[0m \u001b[1;33m=\u001b[0m \u001b[0mself\u001b[0m\u001b[1;33m.\u001b[0m\u001b[0mcoef_\u001b[0m\u001b[1;33m.\u001b[0m\u001b[0mshape\u001b[0m\u001b[1;33m[\u001b[0m\u001b[1;36m1\u001b[0m\u001b[1;33m]\u001b[0m\u001b[1;33m\u001b[0m\u001b[1;33m\u001b[0m\u001b[0m\n\u001b[0m\u001b[0;32m    287\u001b[0m         \u001b[1;32mif\u001b[0m \u001b[0mX\u001b[0m\u001b[1;33m.\u001b[0m\u001b[0mshape\u001b[0m\u001b[1;33m[\u001b[0m\u001b[1;36m1\u001b[0m\u001b[1;33m]\u001b[0m \u001b[1;33m!=\u001b[0m \u001b[0mn_features\u001b[0m\u001b[1;33m:\u001b[0m\u001b[1;33m\u001b[0m\u001b[1;33m\u001b[0m\u001b[0m\n\u001b[0;32m    288\u001b[0m             raise ValueError(\"X has %d features per sample; expecting %d\"\n",
      "\u001b[1;31mAttributeError\u001b[0m: 'LinearDiscriminantAnalysis' object has no attribute 'coef_'"
     ]
    }
   ],
   "source": [
    "\n",
    "\n",
    "print(\"LDA Score: %.3f\"%lda.score(X_test,y_test))\n",
    "\n",
    "\n",
    "\n"
   ]
  },
  {
   "cell_type": "code",
   "execution_count": 14,
   "id": "9af1a913",
   "metadata": {},
   "outputs": [
    {
     "ename": "AttributeError",
     "evalue": "'LinearDiscriminantAnalysis' object has no attribute 'coef_'",
     "output_type": "error",
     "traceback": [
      "\u001b[1;31m---------------------------------------------------------------------------\u001b[0m",
      "\u001b[1;31mAttributeError\u001b[0m                            Traceback (most recent call last)",
      "\u001b[1;32m~\\AppData\\Local\\Temp/ipykernel_17928/1126355108.py\u001b[0m in \u001b[0;36m<module>\u001b[1;34m\u001b[0m\n\u001b[1;32m----> 1\u001b[1;33m \u001b[0my_pred\u001b[0m \u001b[1;33m=\u001b[0m \u001b[0mlda\u001b[0m\u001b[1;33m.\u001b[0m\u001b[0mpredict\u001b[0m\u001b[1;33m(\u001b[0m\u001b[0mX_test\u001b[0m\u001b[1;33m)\u001b[0m\u001b[1;33m\u001b[0m\u001b[1;33m\u001b[0m\u001b[0m\n\u001b[0m",
      "\u001b[1;32m~\\anaconda3\\lib\\site-packages\\sklearn\\linear_model\\_base.py\u001b[0m in \u001b[0;36mpredict\u001b[1;34m(self, X)\u001b[0m\n\u001b[0;32m    307\u001b[0m             \u001b[0mPredicted\u001b[0m \u001b[1;32mclass\u001b[0m \u001b[0mlabel\u001b[0m \u001b[0mper\u001b[0m \u001b[0msample\u001b[0m\u001b[1;33m.\u001b[0m\u001b[1;33m\u001b[0m\u001b[1;33m\u001b[0m\u001b[0m\n\u001b[0;32m    308\u001b[0m         \"\"\"\n\u001b[1;32m--> 309\u001b[1;33m         \u001b[0mscores\u001b[0m \u001b[1;33m=\u001b[0m \u001b[0mself\u001b[0m\u001b[1;33m.\u001b[0m\u001b[0mdecision_function\u001b[0m\u001b[1;33m(\u001b[0m\u001b[0mX\u001b[0m\u001b[1;33m)\u001b[0m\u001b[1;33m\u001b[0m\u001b[1;33m\u001b[0m\u001b[0m\n\u001b[0m\u001b[0;32m    310\u001b[0m         \u001b[1;32mif\u001b[0m \u001b[0mlen\u001b[0m\u001b[1;33m(\u001b[0m\u001b[0mscores\u001b[0m\u001b[1;33m.\u001b[0m\u001b[0mshape\u001b[0m\u001b[1;33m)\u001b[0m \u001b[1;33m==\u001b[0m \u001b[1;36m1\u001b[0m\u001b[1;33m:\u001b[0m\u001b[1;33m\u001b[0m\u001b[1;33m\u001b[0m\u001b[0m\n\u001b[0;32m    311\u001b[0m             \u001b[0mindices\u001b[0m \u001b[1;33m=\u001b[0m \u001b[1;33m(\u001b[0m\u001b[0mscores\u001b[0m \u001b[1;33m>\u001b[0m \u001b[1;36m0\u001b[0m\u001b[1;33m)\u001b[0m\u001b[1;33m.\u001b[0m\u001b[0mastype\u001b[0m\u001b[1;33m(\u001b[0m\u001b[0mint\u001b[0m\u001b[1;33m)\u001b[0m\u001b[1;33m\u001b[0m\u001b[1;33m\u001b[0m\u001b[0m\n",
      "\u001b[1;32m~\\anaconda3\\lib\\site-packages\\sklearn\\discriminant_analysis.py\u001b[0m in \u001b[0;36mdecision_function\u001b[1;34m(self, X)\u001b[0m\n\u001b[0;32m    655\u001b[0m         \"\"\"\n\u001b[0;32m    656\u001b[0m         \u001b[1;31m# Only override for the doc\u001b[0m\u001b[1;33m\u001b[0m\u001b[1;33m\u001b[0m\u001b[0m\n\u001b[1;32m--> 657\u001b[1;33m         \u001b[1;32mreturn\u001b[0m \u001b[0msuper\u001b[0m\u001b[1;33m(\u001b[0m\u001b[1;33m)\u001b[0m\u001b[1;33m.\u001b[0m\u001b[0mdecision_function\u001b[0m\u001b[1;33m(\u001b[0m\u001b[0mX\u001b[0m\u001b[1;33m)\u001b[0m\u001b[1;33m\u001b[0m\u001b[1;33m\u001b[0m\u001b[0m\n\u001b[0m\u001b[0;32m    658\u001b[0m \u001b[1;33m\u001b[0m\u001b[0m\n\u001b[0;32m    659\u001b[0m \u001b[1;33m\u001b[0m\u001b[0m\n",
      "\u001b[1;32m~\\anaconda3\\lib\\site-packages\\sklearn\\linear_model\\_base.py\u001b[0m in \u001b[0;36mdecision_function\u001b[1;34m(self, X)\u001b[0m\n\u001b[0;32m    284\u001b[0m         \u001b[0mX\u001b[0m \u001b[1;33m=\u001b[0m \u001b[0mcheck_array\u001b[0m\u001b[1;33m(\u001b[0m\u001b[0mX\u001b[0m\u001b[1;33m,\u001b[0m \u001b[0maccept_sparse\u001b[0m\u001b[1;33m=\u001b[0m\u001b[1;34m'csr'\u001b[0m\u001b[1;33m)\u001b[0m\u001b[1;33m\u001b[0m\u001b[1;33m\u001b[0m\u001b[0m\n\u001b[0;32m    285\u001b[0m \u001b[1;33m\u001b[0m\u001b[0m\n\u001b[1;32m--> 286\u001b[1;33m         \u001b[0mn_features\u001b[0m \u001b[1;33m=\u001b[0m \u001b[0mself\u001b[0m\u001b[1;33m.\u001b[0m\u001b[0mcoef_\u001b[0m\u001b[1;33m.\u001b[0m\u001b[0mshape\u001b[0m\u001b[1;33m[\u001b[0m\u001b[1;36m1\u001b[0m\u001b[1;33m]\u001b[0m\u001b[1;33m\u001b[0m\u001b[1;33m\u001b[0m\u001b[0m\n\u001b[0m\u001b[0;32m    287\u001b[0m         \u001b[1;32mif\u001b[0m \u001b[0mX\u001b[0m\u001b[1;33m.\u001b[0m\u001b[0mshape\u001b[0m\u001b[1;33m[\u001b[0m\u001b[1;36m1\u001b[0m\u001b[1;33m]\u001b[0m \u001b[1;33m!=\u001b[0m \u001b[0mn_features\u001b[0m\u001b[1;33m:\u001b[0m\u001b[1;33m\u001b[0m\u001b[1;33m\u001b[0m\u001b[0m\n\u001b[0;32m    288\u001b[0m             raise ValueError(\"X has %d features per sample; expecting %d\"\n",
      "\u001b[1;31mAttributeError\u001b[0m: 'LinearDiscriminantAnalysis' object has no attribute 'coef_'"
     ]
    }
   ],
   "source": [
    "y_pred = lda.predict(X_test)"
   ]
  },
  {
   "cell_type": "code",
   "execution_count": 15,
   "id": "6b4e5959",
   "metadata": {},
   "outputs": [
    {
     "name": "stdout",
     "output_type": "stream",
     "text": [
      "Confusion Matrix:\n",
      " [[  0   0   0   0   0   0]\n",
      " [  0   0   0   0   0   0]\n",
      " [129  42 598 274 394 562]\n",
      " [  0   0   0   0   0   0]\n",
      " [  0   0   0   0   0   0]\n",
      " [  0   0   0   0   0   0]]\n"
     ]
    }
   ],
   "source": [
    "con_mat = confusion_matrix(y_pred,y_test)\n",
    "print(\"Confusion Matrix:\\n\",con_mat)"
   ]
  },
  {
   "cell_type": "code",
   "execution_count": 16,
   "id": "432ae26e",
   "metadata": {},
   "outputs": [
    {
     "name": "stdout",
     "output_type": "stream",
     "text": [
      "Recall:  [0.         0.         0.29914957 0.         0.         0.        ]\n"
     ]
    },
    {
     "name": "stderr",
     "output_type": "stream",
     "text": [
      "C:\\Users\\ramse\\anaconda3\\lib\\site-packages\\sklearn\\metrics\\_classification.py:1248: UndefinedMetricWarning: Recall is ill-defined and being set to 0.0 in labels with no true samples. Use `zero_division` parameter to control this behavior.\n",
      "  _warn_prf(average, modifier, msg_start, len(result))\n"
     ]
    }
   ],
   "source": [
    "print(\"Recall: \",recall(y_pred, y_test, average=None))"
   ]
  },
  {
   "cell_type": "code",
   "execution_count": 17,
   "id": "93c500e0",
   "metadata": {},
   "outputs": [
    {
     "name": "stdout",
     "output_type": "stream",
     "text": [
      "Precision:  [0. 0. 1. 0. 0. 0.]\n"
     ]
    }
   ],
   "source": [
    "print(\"Precision: \",precision(y_pred, y_test, average=None))"
   ]
  },
  {
   "cell_type": "code",
   "execution_count": 18,
   "id": "ac9edf9a",
   "metadata": {},
   "outputs": [
    {
     "name": "stderr",
     "output_type": "stream",
     "text": [
      "C:\\Users\\ramse\\anaconda3\\lib\\site-packages\\sklearn\\discriminant_analysis.py:808: UserWarning: Variables are collinear\n",
      "  warnings.warn(\"Variables are collinear\")\n"
     ]
    },
    {
     "data": {
      "text/plain": [
       "QuadraticDiscriminantAnalysis(store_covariance=True)"
      ]
     },
     "execution_count": 18,
     "metadata": {},
     "output_type": "execute_result"
    }
   ],
   "source": [
    "## Quadratic Discriminant Analysis\n",
    "\n",
    "\n",
    "\n",
    "qda = QuadraticDiscriminantAnalysis(store_covariance=True)\n",
    "qda.fit(X_train, y_train)\n"
   ]
  },
  {
   "cell_type": "code",
   "execution_count": 22,
   "id": "b7b19d9d",
   "metadata": {},
   "outputs": [
    {
     "name": "stdout",
     "output_type": "stream",
     "text": [
      "QDA Score: 0.139\n",
      "Confusion Matrix:\n",
      " [[  0   0   0   0   0   0]\n",
      " [  0   0   0   0   0   0]\n",
      " [  0   0   5   2   3   2]\n",
      " [127  41 590 270 391 558]\n",
      " [  2   1   2   1   0   0]\n",
      " [  0   0   1   1   0   2]]\n",
      "Recall:  [0.         0.         0.41666667 0.13657056 0.         0.5       ]\n",
      "Precision:  [0.         0.         0.0083612  0.98540146 0.         0.00355872]\n"
     ]
    },
    {
     "name": "stderr",
     "output_type": "stream",
     "text": [
      "C:\\Users\\ramse\\anaconda3\\lib\\site-packages\\sklearn\\metrics\\_classification.py:1248: UndefinedMetricWarning: Recall is ill-defined and being set to 0.0 in labels with no true samples. Use `zero_division` parameter to control this behavior.\n",
      "  _warn_prf(average, modifier, msg_start, len(result))\n"
     ]
    }
   ],
   "source": [
    "print(\"QDA Score: %.3f\"%qda.score(X_test,y_test))\n",
    "y_pred = qda.predict(X_test)\n",
    "con_mat = confusion_matrix(y_pred,y_test)\n",
    "print(\"Confusion Matrix:\\n\",con_mat)\n",
    "print(\"Recall: \",recall(y_pred, y_test, average=None))\n",
    "print(\"Precision: \",precision(y_pred, y_test, average=None))"
   ]
  },
  {
   "cell_type": "code",
   "execution_count": 20,
   "id": "917a10a0",
   "metadata": {},
   "outputs": [
    {
     "data": {
      "text/plain": [
       "LinearRegression()"
      ]
     },
     "execution_count": 20,
     "metadata": {},
     "output_type": "execute_result"
    }
   ],
   "source": [
    "\n",
    "\n",
    "lr = LinearRegression()\n",
    "lr.fit(X_train, pd.get_dummies(y_train))\n"
   ]
  },
  {
   "cell_type": "code",
   "execution_count": 21,
   "id": "a5df19a5",
   "metadata": {},
   "outputs": [
    {
     "name": "stdout",
     "output_type": "stream",
     "text": [
      "Linear Regression Score: 0.137\n",
      "Confusion Matrix:\n",
      " [[  0   0   0   0   0   0]\n",
      " [  0   0   0   0   0   0]\n",
      " [  0   0   0   0   0   0]\n",
      " [129  42 598 274 394 562]\n",
      " [  0   0   0   0   0   0]\n",
      " [  0   0   0   0   0   0]]\n",
      "The linear model predicted the right category of voice data nan% of the time\n",
      "Recall:  [0.         0.         0.         0.13706853 0.         0.        ]\n",
      "Precision:  [0. 0. 0. 1. 0. 0.]\n"
     ]
    },
    {
     "name": "stderr",
     "output_type": "stream",
     "text": [
      "C:\\Users\\ramse\\AppData\\Local\\Temp/ipykernel_17928/1016897161.py:5: RuntimeWarning: invalid value encountered in longlong_scalars\n",
      "  correct_percent = (con_mat[0][0]+con_mat[1][1])/(sum(con_mat[:][0])+sum(con_mat[:][1]))*100\n",
      "C:\\Users\\ramse\\anaconda3\\lib\\site-packages\\sklearn\\metrics\\_classification.py:1248: UndefinedMetricWarning: Recall is ill-defined and being set to 0.0 in labels with no true samples. Use `zero_division` parameter to control this behavior.\n",
      "  _warn_prf(average, modifier, msg_start, len(result))\n"
     ]
    }
   ],
   "source": [
    "y_hat = np.argmax(lr.predict(X_test), axis=1)\n",
    "y_true = np.argmax(np.matrix(pd.get_dummies(y_test)), axis=1)\n",
    "print(\"Linear Regression Score: %.3f\"%accuracy_score(y_hat,y_true))\n",
    "con_mat = confusion_matrix(y_hat,y_true)\n",
    "correct_percent = (con_mat[0][0]+con_mat[1][1])/(sum(con_mat[:][0])+sum(con_mat[:][1]))*100\n",
    "print(\"Confusion Matrix:\\n\",con_mat)\n",
    "print(\"The linear model predicted the right category of voice data %.2f%% of the time\"%(correct_percent))\n",
    "print(\"Recall: \",recall(y_hat, y_true, average=None))\n",
    "print(\"Precision: \",precision(y_hat, y_true, average=None))"
   ]
  },
  {
   "cell_type": "code",
   "execution_count": null,
   "id": "120261d7",
   "metadata": {},
   "outputs": [],
   "source": []
  }
 ],
 "metadata": {
  "kernelspec": {
   "display_name": "Python 3 (ipykernel)",
   "language": "python",
   "name": "python3"
  },
  "language_info": {
   "codemirror_mode": {
    "name": "ipython",
    "version": 3
   },
   "file_extension": ".py",
   "mimetype": "text/x-python",
   "name": "python",
   "nbconvert_exporter": "python",
   "pygments_lexer": "ipython3",
   "version": "3.9.7"
  }
 },
 "nbformat": 4,
 "nbformat_minor": 5
}
